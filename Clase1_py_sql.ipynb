{
 "cells": [
  {
   "cell_type": "code",
   "execution_count": null,
   "metadata": {},
   "outputs": [],
   "source": []
  },
  {
   "attachments": {},
   "cell_type": "markdown",
   "metadata": {},
   "source": [
    "# Esto es un título \n",
    "\n",
    "La libreta con terminación .ipynb es una libreta jupyter, la cual tiene la interfaz similar a la de google colab\n",
    "\n",
    "**negritas**\n",
    "\n",
    "*cursiva*\n",
    "\n",
    "Vamos a hacer una lista\n",
    "* 1\n",
    "* 2\n",
    "* 3\n"
   ]
  },
  {
   "cell_type": "code",
   "execution_count": 1,
   "metadata": {},
   "outputs": [
    {
     "name": "stdout",
     "output_type": "stream",
     "text": [
      "1 + 1 = 2\n",
      "1 -1 = 0\n",
      "4 * 8 = 32\n",
      "10/2 = 5.0\n",
      "2 ** 3 = 8\n",
      "4 ** (1/2) = 2.0\n"
     ]
    }
   ],
   "source": [
    "# suma\n",
    "print(\"1 + 1 =\", 1 + 1)\n",
    "\n",
    "#resta\n",
    "print(\"1 -1 =\", 1 - 1)\n",
    "\n",
    "#multiplicacion\n",
    "print(\"4 * 8 =\", 4 * 8)\n",
    "\n",
    "#division\n",
    "print(\"10/2 =\", 10/2)\n",
    "\n",
    "#potencia\n",
    "print(\"2 ** 3 =\", 2 ** 3)\n",
    "\n",
    "#raiz cuadrada\n",
    "print(\"4 ** (1/2) =\", 4 ** (1/2))\n",
    "\n",
    "\n",
    "\n"
   ]
  },
  {
   "cell_type": "code",
   "execution_count": null,
   "metadata": {},
   "outputs": [],
   "source": []
  }
 ],
 "metadata": {
  "kernelspec": {
   "display_name": "Python 3",
   "language": "python",
   "name": "python3"
  },
  "language_info": {
   "codemirror_mode": {
    "name": "ipython",
    "version": 3
   },
   "file_extension": ".py",
   "mimetype": "text/x-python",
   "name": "python",
   "nbconvert_exporter": "python",
   "pygments_lexer": "ipython3",
   "version": "3.10.8"
  },
  "orig_nbformat": 4
 },
 "nbformat": 4,
 "nbformat_minor": 2
}
